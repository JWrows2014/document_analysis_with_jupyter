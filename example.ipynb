{
 "cells": [
  {
   "cell_type": "markdown",
   "id": "34870611-babe-45ec-a975-a07b8b93f5f3",
   "metadata": {
    "editable": true,
    "slideshow": {
     "slide_type": "slide"
    },
    "tags": []
   },
   "source": [
    "# Documenting Data Analysis with Jupyter Lab\n",
    "\n",
    "#### Joe Wu, Phd\n",
    "#### NCI/CCR Bioinformatics Training and Education Program\n",
    "#### ncibtep@nih.gov\n",
    "#### September 4, 2025"
   ]
  },
  {
   "cell_type": "markdown",
   "id": "b88e42fc-2cfc-45f6-8b16-5d4994989a2e",
   "metadata": {},
   "source": [
    "Table of Contents\n",
    "\n",
    "* [Start a Jupyter Lab session](#Start-Jupyter-Lab)\n",
    "* [Jupyter Lab interface](#Jupyter-Lab-Interface)\n",
    "* [Changing between markdown and code](#Changing-Between-Markdown-and-Code)\n",
    "* [Ways to access and use Jupyter Lab](#Ways-to-Access-and-Use-Jupyter-Lab)\n",
    "* [Install Jupyter Lab on Personal Computer](#Installing-Jupyter-Lab-on-Personal-Computer)\n",
    "* [Code and visualization](#Code-and-Visualization)\n",
    "* [Writing formatted text](#Writing-Formatted-Text)\n",
    "* [Exporting Jupyter Notebook using GUI](#Exporting-Jupyter-Notebook-using-GUI)\n",
    "* [Exporting Jupyter Notebook using command line](#Exporting-Jupyter-Notebook-using-Command-Line)\n",
    "* [Sharing Jupyter Notebook](#Sharing-Jupyter-Notebook)"
   ]
  },
  {
   "cell_type": "markdown",
   "id": "13ba8844-bb3d-46fc-af22-dfe900648973",
   "metadata": {
    "slideshow": {
     "slide_type": "slide"
    },
    "tags": []
   },
   "source": [
    "## Start Jupyter Lab\n",
    "\n",
    "To start Jupyter Lab, type the following into the command prompt. The `--no-browser` option prevents a web browser from opening.\n",
    "\n",
    "```\n",
    "jupyter lab --no-browser\n",
    "```\n",
    "\n",
    "Copy and paste any of the following URLs into a web browser to start using Jupyter. These URLs will be different for every Jupyter Lab session. Note users cannot copy one of the URLs below into a web browser on their computer and hope that it pulls up Jupyter Lab. These URLs are machine specific and Jupyter Lab also needs to be installed.\n",
    "\n",
    "```\n",
    "To access the server, open this file in a browser:\n",
    "        file:///Users/wuz8/Library/Jupyter/runtime/jpserver-30985-open.html\n",
    "    Or copy and paste one of these URLs:\n",
    "        http://localhost:8890/lab?token=1952fcce201164f8368f2666f2f2625c0bbeeea1ddc20b2c\n",
    "        http://127.0.0.1:8890/lab?token=1952fcce201164f8368f2666f2f2625c0bbeeea1ddc20b2c\n",
    "```"
   ]
  },
  {
   "cell_type": "markdown",
   "id": "a30c7706-df00-4418-bc12-c3a6aec8cd9c",
   "metadata": {
    "jp-MarkdownHeadingCollapsed": true,
    "slideshow": {
     "slide_type": "slide"
    },
    "tags": []
   },
   "source": [
    "#### Jupyter Lab Interface\n",
    "\n",
    "Upon starting Jupyter Lab, users will see an interface with the following.\n",
    "\n",
    "* To the left, there is a file explorer where users can access files and subfolders available in the directory in which the Jupyter Lab session was started (also referred to as the project directory in these documents). In the example below, there is a subfolder called \"data\".\n",
    "* A folder icon with a \"+\" enclosed can be used to create new folders within the project directory. These will be available in the file explorer.\n",
    "* In case there are files or folders that are not in the project directory, users can use the upload button to transfer these so that they will appear in the file explorer. An alternative is to click and drag content into the file explorer.\n",
    "* The Launcher contains options for starting a Jupyter Notebook in various languages. Users will have to install the specific language and add it into their Jupyter Lab environment to be able to use it. The link addressing Jupyter Lab language compatibility is included in the section titled \"Jupyter Lab is Compatible with Many Languages\".\n",
    "* Right clicking on the file explorer will bring up a menu where users can create new files, folders, and Jupyter Notebooks.\n",
    "\n",
    "**Caution:**\n",
    "The file explorer will only display files and subfolders in the directory in which the Jupyter Lab session was created. To transfer files that reside in a different directory, either click and drag into the file explorer or use the upload button. Alternatively, users may create a symbolic link, which will appear in the file explorer to access content outside of the Jupyter Lab session directory.\n",
    "\n",
    "<img src=\"jupyter_1.png\" />"
   ]
  },
  {
   "cell_type": "markdown",
   "id": "515b3008-5f76-4fbb-b297-81a6b41d0333",
   "metadata": {
    "slideshow": {
     "slide_type": "slide"
    },
    "tags": []
   },
   "source": [
    "#### Jupyter Lab is Compatible with Many Languages\n",
    "\n",
    "* Bash, Python, and R\n",
    "* See [https://docs.jupyter.org/en/latest/projects/kernels.html](https://docs.jupyter.org/en/latest/projects/kernels.html) for a list of Jupyter compatible languages."
   ]
  },
  {
   "cell_type": "markdown",
   "id": "bb2af141-0ba3-4ca2-b477-0755c76a795c",
   "metadata": {
    "slideshow": {
     "slide_type": "slide"
    },
    "tags": []
   },
   "source": [
    "#### Start a New Jupyter Notebook\n",
    "\n",
    "To start a new Jupyter Notebook, click on any of the available panels under the \"Notebook\" section in the Launcher. Each of the panels represent a notebook that will work with a specific language that was added to the Jupyter environment by the user.\n",
    "\n",
    "This class will use a Python notebook as an example. Click on the \"Python 3 (ipykernel)\" panel to start a Python Jupyter Noteook. The instructor has Python 3.12.2 installed and this will be differ depeneding on what each user has installed. Remember to keep track of language and package versions to ensure analysis reproducibility.\n",
    "\n",
    "The Jupyter Notebook is a part of Jupyter Lab.\n",
    "\n",
    "The note book is where users\n",
    "\n",
    "* Write code\n",
    "* View and maintain output\n",
    "* Document analysis steps using formatted text written in markdown\n",
    "\n",
    "**Note:**\n",
    "\n",
    "\"Markdown is a lightweight markup language for creating formatted text using a plain-text editor.\" -- [https://en.wikipedia.org/wiki/Markdown](https://en.wikipedia.org/wiki/Markdown)"
   ]
  },
  {
   "cell_type": "markdown",
   "id": "a414e1cc-0c20-4ec6-9e9f-bf6af8c0fb0b",
   "metadata": {},
   "source": [
    "#### Rename Untitled Jupyter Notebook\n",
    "\n",
    "A new Jupyter Notebook is given the name \"Untitled\". Change this to something meaningful either using the save icon on the notebook menu bar or right-clicking on the \"Untitled.ipynb\" notebook in the file explorer and choose \"Rename\".\n",
    "\n",
    "Jupyter Notebooks have extension ipynb, which stands for interactive Python notebook.\n",
    "\n",
    "<img src=\"jupyter_2.png\" />"
   ]
  },
  {
   "cell_type": "markdown",
   "id": "18e1d956-4235-4db9-8b97-68352472e493",
   "metadata": {
    "slideshow": {
     "slide_type": "slide"
    },
    "tags": []
   },
   "source": [
    "#### Keeping Code, Output, and Analysis Steps in One Place\n",
    "\n",
    "<img src=\"jupyter_3.png\" />"
   ]
  },
  {
   "cell_type": "markdown",
   "id": "ac2d8ed3-13ab-4fe7-9447-bb51af6f693b",
   "metadata": {
    "slideshow": {
     "slide_type": "slide"
    },
    "tags": []
   },
   "source": [
    "#### Changing Between Markdown and Code\n",
    "\n",
    "<img src=\"jupyter_4.png\" />"
   ]
  },
  {
   "cell_type": "markdown",
   "id": "09b124c0-dbb6-4439-9f62-d658cfed0ab8",
   "metadata": {
    "slideshow": {
     "slide_type": "slide"
    },
    "tags": []
   },
   "source": [
    "## Ways to Access and Use Jupyter Lab\n",
    "\n",
    "* Biowulf ([https://hpc.nih.gov/apps/jupyter.html](https://hpc.nih.gov/apps/jupyter.html)). Biowulf is the NIH Unix-based high performance computing system.\n",
    "  * Requires getting a [Biowulf account](https://hpc.nih.gov/docs/accounts.html)\n",
    "* [Google Colab](https://colab.research.google.com/)"
   ]
  },
  {
   "cell_type": "markdown",
   "id": "3c320fde-0b1a-4006-84b1-54b588db3f0b",
   "metadata": {},
   "source": [
    "## Installing Jupyter Lab on Personal Computer\n",
    "\n",
    "* [Anaconda](https://www.anaconda.com/): Jupyter Lab is packaged with this.\n",
    "* Install package managers [miniconda](https://docs.anaconda.com/miniconda/) or [mamba](https://mamba.readthedocs.io/en/latest/index.html). Both package manager come with Python.\n",
    "  * Install Jupyter Lab following the instructions at [https://jupyterlab.readthedocs.io/en/stable/getting_started/installation.html](https://jupyterlab.readthedocs.io/en/stable/getting_started/installation.html).\n",
    "* As a stand alone without using Package managers: \n",
    "  * [https://www.python.org/downloads/](https://www.python.org/downloads/) for installing Python.\n",
    "  * [https://jupyterlab.readthedocs.io/en/stable/getting_started/installation.html](https://jupyterlab.readthedocs.io/en/stable/getting_started/installation.html) for installing Jupyter Lab.\n",
    "* Remember that users will have to install languages and language specific packages.\n",
    "* To use a language in Jupyter Lab, it must be added to the Jupyter environment.\n",
    "  * For more information about Jupyter compatible languages see [https://docs.jupyter.org/en/latest/projects/kernels.html](https://docs.jupyter.org/en/latest/projects/kernels.html)."
   ]
  },
  {
   "cell_type": "markdown",
   "id": "9f2e55c7-ed5b-4b09-be36-86cff7501149",
   "metadata": {
    "slideshow": {
     "slide_type": "slide"
    },
    "tags": []
   },
   "source": [
    "## Code and Visualization"
   ]
  },
  {
   "cell_type": "markdown",
   "id": "3cb3de48-87a8-4914-9470-a571bf38368e",
   "metadata": {},
   "source": [
    "#### Jupyter Notebook enables organization of code, analysis steps, and output all in one place.\n",
    "\n",
    "The example below will use Python code to demonstrate the utility of Jupyter Notebook for keeping code, output, and analysis steps all in one place.\n",
    "\n",
    "* First, the `import` command of Python will be used to load packages `numpy` which is used for numeric computation and `matplotlib` which is a popular Python data visualization tool.\n",
    "* Next, two numeric arrays (x and y) will be generated using `numpy` and its `array` sub-command. To call a Python sub-command just type the package name (ie. numpy), followed by a \".\", and then the sub-command. So to create an array, use `numpy.array`. The elements in the array are enclosed in \"([])\".\n",
    "* Finally, a scatter plot will be generated using `matplotlib's` `pyplot` module, which will be loaded under the alias `plt` for easy referencing in the code. The `scatter` sub-command will be used to generate the scatter plot showing the relationship between the values in array x versus those in array y. The arguments enclosed in \"()\" are name of the two arrays separated by a comma (ie. (x,y)).\n",
    "* After scatter plot has been generated, the following sub-commands from `matplotlib's` `pyplot` or `plt` will be used to customize the graph:\n",
    "    * `xlabel`: assign label to the x axis, the option `size=` allows font size adjustment.\n",
    "    * `ylabel`: assign label to the y axis, the option `size=` allows font size adjustment.\n",
    "    * `plt.tick_params`: adjust axis tick mark label font size by setting the `labelsize` option.\n",
    "    * `plt.title`: assigns a plot title and `size` is used to adjust the fontsize of the title."
   ]
  },
  {
   "cell_type": "code",
   "execution_count": 1,
   "id": "4d4535ed-4f0c-4e78-a161-7fca37e1e557",
   "metadata": {},
   "outputs": [],
   "source": [
    "# Import some Python packages\n",
    "import numpy\n",
    "import matplotlib.pyplot as plt "
   ]
  },
  {
   "cell_type": "code",
   "execution_count": 2,
   "id": "b927093b-5edd-4628-bfbc-e4d24b82e44f",
   "metadata": {},
   "outputs": [
    {
     "name": "stdout",
     "output_type": "stream",
     "text": [
      "The array x contains:  [0 1 2 3 4]\n",
      "The array y contains:  [0 2 4 6 8]\n"
     ]
    }
   ],
   "source": [
    "# Generate numeric arrays x and y using numpy\n",
    "x=numpy.array([0,1,2,3,4])\n",
    "y=numpy.array([0,2,4,6,8])\n",
    "print(\"The array x contains: \", x)\n",
    "print(\"The array y contains: \", y)"
   ]
  },
  {
   "cell_type": "code",
   "execution_count": 3,
   "id": "9dc0122b-14e4-407e-bb25-f57e30b01d5c",
   "metadata": {},
   "outputs": [
    {
     "data": {
      "image/png": "[encoded data removed]",
      "text/plain": [
       "<Figure size 640x480 with 1 Axes>"
      ]
     },
     "metadata": {},
     "output_type": "display_data"
    }
   ],
   "source": [
    "# Generate scatter plot using matplotlib\n",
    "plt.scatter(x,y)\n",
    "plt.xlabel(\"x\", size=15)\n",
    "plt.ylabel(\"y\", size=15)\n",
    "plt.tick_params(labelsize=12)\n",
    "plt.title(\"Relationship between x and y\", size=16)\n",
    "plt.show()"
   ]
  },
  {
   "cell_type": "markdown",
   "id": "4cab42be-d49d-4401-8eab-600f58627c51",
   "metadata": {
    "slideshow": {
     "slide_type": "slide"
    },
    "tags": []
   },
   "source": [
    "#### Importing data tables into Jupyter Notebook\n",
    "\n",
    "Users will be working with data tables during analyses. These can be imported into the a Jupyter Notebook although the approach for doing so will be language dependent. \n",
    "\n",
    "The example below will use a Python package called [Pandas](https://pandas.pydata.org) to import a data table. The data table contains the differential gene expression analysis results from the [HBR and UHR study](https://rnabio.org/module-01-inputs/0001/05/01/RNAseq_Data/) and is in the comma separated value or CSV format where each column in the table is separated by a comma.\n",
    "\n",
    "The file used is hbr_uhr_deg_chr22_with_significance.csv.\n",
    "\n",
    "Step 1 in the process is to load `pandas` into the work environment using the `import` command of Python (ie. `import pandas`). The data will be stored in a data table called hbr_uhr_deg_chr22. Use `pandas.read_csv` to call the `read_csv` sub-command. Enclosed in parentheses is the path to the file hbr_uhr_deg_chr22_with_significance.csv. Once the data has been loaded, append the `.head()` attribute to the hbr_uhr_deg_chr22 to preview the first five lines.\n",
    "\n",
    "The hbr_uhr_deg_chr22 data table contains five columns and these are:\n",
    "\n",
    "  * name: contains gene names\n",
    "  * log2FoldChange: gene expression change between two experimental conditions on the log2 scale\n",
    "  * PAdj: adjusted p-value indicating statistical confidence of the calculated gene expression change\n",
    "  * -log10PAj: negative of the values in the PAdj column on a log10 scale\n",
    "  * significance: whether the gene expression is up regulated, down regulated, or has no change"
   ]
  },
  {
   "cell_type": "code",
   "execution_count": 4,
   "id": "bd4243d4-44eb-4f8a-8f50-c03a1d37474d",
   "metadata": {
    "slideshow": {
     "slide_type": "slide"
    },
    "tags": []
   },
   "outputs": [],
   "source": [
    "# Load the Pandas package\n",
    "import pandas"
   ]
  },
  {
   "cell_type": "code",
   "execution_count": 5,
   "id": "a994987c-21f3-45b9-bcac-d9451bf81542",
   "metadata": {
    "slideshow": {
     "slide_type": "slide"
    },
    "tags": []
   },
   "outputs": [
    {
     "data": {
      "text/html": [
       "<div>\n",
       "<style scoped>\n",
       "    .dataframe tbody tr th:only-of-type {\n",
       "        vertical-align: middle;\n",
       "    }\n",
       "\n",
       "    .dataframe tbody tr th {\n",
       "        vertical-align: top;\n",
       "    }\n",
       "\n",
       "    .dataframe thead th {\n",
       "        text-align: right;\n",
       "    }\n",
       "</style>\n",
       "<table border=\"1\" class=\"dataframe\">\n",
       "  <thead>\n",
       "    <tr style=\"text-align: right;\">\n",
       "      <th></th>\n",
       "      <th>name</th>\n",
       "      <th>log2FoldChange</th>\n",
       "      <th>PAdj</th>\n",
       "      <th>-log10PAdj</th>\n",
       "      <th>significance</th>\n",
       "    </tr>\n",
       "  </thead>\n",
       "  <tbody>\n",
       "    <tr>\n",
       "      <th>0</th>\n",
       "      <td>SYNGR1</td>\n",
       "      <td>-4.6</td>\n",
       "      <td>5.200000e-217</td>\n",
       "      <td>216.283997</td>\n",
       "      <td>down</td>\n",
       "    </tr>\n",
       "    <tr>\n",
       "      <th>1</th>\n",
       "      <td>SEPT3</td>\n",
       "      <td>-4.6</td>\n",
       "      <td>4.500000e-204</td>\n",
       "      <td>203.346787</td>\n",
       "      <td>down</td>\n",
       "    </tr>\n",
       "    <tr>\n",
       "      <th>2</th>\n",
       "      <td>YWHAH</td>\n",
       "      <td>-2.5</td>\n",
       "      <td>4.700000e-191</td>\n",
       "      <td>190.327902</td>\n",
       "      <td>down</td>\n",
       "    </tr>\n",
       "    <tr>\n",
       "      <th>3</th>\n",
       "      <td>RPL3</td>\n",
       "      <td>1.7</td>\n",
       "      <td>5.400000e-134</td>\n",
       "      <td>133.267606</td>\n",
       "      <td>ns</td>\n",
       "    </tr>\n",
       "    <tr>\n",
       "      <th>4</th>\n",
       "      <td>PI4KA</td>\n",
       "      <td>-2.0</td>\n",
       "      <td>2.900000e-118</td>\n",
       "      <td>117.537602</td>\n",
       "      <td>down</td>\n",
       "    </tr>\n",
       "  </tbody>\n",
       "</table>\n",
       "</div>"
      ],
      "text/plain": [
       "     name  log2FoldChange           PAdj  -log10PAdj significance\n",
       "0  SYNGR1            -4.6  5.200000e-217  216.283997         down\n",
       "1   SEPT3            -4.6  4.500000e-204  203.346787         down\n",
       "2   YWHAH            -2.5  4.700000e-191  190.327902         down\n",
       "3    RPL3             1.7  5.400000e-134  133.267606           ns\n",
       "4   PI4KA            -2.0  2.900000e-118  117.537602         down"
      ]
     },
     "execution_count": 5,
     "metadata": {},
     "output_type": "execute_result"
    }
   ],
   "source": [
    "# Import the data\n",
    "\n",
    "hbr_uhr_deg_chr22=pandas.read_csv(\"./hbr_uhr_deg_chr22_with_significance.csv\")\n",
    "\n",
    "# View the first several lines of hbr_uhr_deg_chr22 using the head attribute\n",
    "## of the imported data table (hbr_uhr_deg_chr22)\n",
    "hbr_uhr_deg_chr22.head()"
   ]
  },
  {
   "cell_type": "markdown",
   "id": "7f1bb221-bbaf-4ffd-984f-7a4678f0da36",
   "metadata": {
    "slideshow": {
     "slide_type": "slide"
    },
    "tags": []
   },
   "source": [
    "#### Data visualization in Jupyter Notebook: scatter plot\n",
    "\n",
    "The exercise below will use the Python package [Seaborn](https://seaborn.pydata.org) to create a volcano plot for the HBR and UHR differential analysis results table that was previously imported. A volcano plot is essentially a scatter plot that shows magnitude of change on one axis and statistical confidence of the change on another axis. In the case of RNA sequencing differential expression, this will be log2 of fold change and -log10 of adjusted p-values.\n",
    "\n",
    "The `scatterplot` function in seaborn will be used to generate volcano plots. This function takes on arguments below:\n",
    "\n",
    "* Data: hbr_uhr_deg_chr22 (differential gene expression analysis results table imported using `pandas.read_csv`)\n",
    "* `x`: x-axis values (ie. gene expression log2FoldChange)\n",
    "* `y`: y-axis values (ie. -log10 of adjusted p-value)\n",
    "* `hue`: color dots by whether gene expression change is up, down, or has no change (see signifcance column of the data)"
   ]
  },
  {
   "cell_type": "code",
   "execution_count": 6,
   "id": "c51d51a0-e2c7-4536-907d-fa3dc7a5bae2",
   "metadata": {
    "slideshow": {
     "slide_type": "slide"
    },
    "tags": []
   },
   "outputs": [
    {
     "data": {
      "image/png": "[encoded data removed]",
      "text/plain": [
       "<Figure size 640x480 with 1 Axes>"
      ]
     },
     "metadata": {},
     "output_type": "display_data"
    }
   ],
   "source": [
    "## Load the seaborn plotting package\n",
    "import seaborn\n",
    "\n",
    "seaborn.scatterplot(hbr_uhr_deg_chr22,x=\"log2FoldChange\", y=\"-log10PAdj\", hue=\"significance\")\n",
    "plt.show()"
   ]
  },
  {
   "cell_type": "markdown",
   "id": "c1fa9b93-e0f2-440d-9db8-99636309d194",
   "metadata": {
    "slideshow": {
     "slide_type": "slide"
    },
    "tags": []
   },
   "source": [
    "#### Data visualization in Jupyter Notebook: heatmap\n",
    "\n",
    "This exercise will use Seaborn's `clustermap` function to construct a gene expression heatmap of top differentially expressed genes in the HBR and UHR study. Heatmaps are another common visualization in RNA sequencing and allow scientists to identify clusters of samples with similar gene expression patterns.\n",
    "\n",
    "First, import the dataset (hbr_uhr_top_deg_normalized_counts.csv) using `pandas.read_csv` and assign it to the variable hbr_uhr_top_deg_normalized_counts. The `clustermap` function of seaborn takes the following arguments and options.\n",
    "\n",
    "* Data: hbr_uhr_top_deg_normalized_counts (the expression counts table imported using `pandas.read_csv`).\n",
    "* `z_score`: set this to 0 to scale the expression counts for each gene by the z_score.\n",
    "* `cmap`: specify a coloring scheme (ie. viridis)\n",
    "* `figsize`: specify figure size\n",
    "* `cbar_kws`: specify title for the heatmap color bar using a key-value pair\n",
    "* `cbar_pos`: specify coordinate to place the heatmap color bar"
   ]
  },
  {
   "cell_type": "code",
   "execution_count": 7,
   "id": "4dfd10d8-586a-43b5-a656-dd3f767336c3",
   "metadata": {
    "slideshow": {
     "slide_type": "slide"
    },
    "tags": []
   },
   "outputs": [],
   "source": [
    "# Import the data\n",
    "\n",
    "hbr_uhr_top_deg_normalized_counts=pandas.read_csv(\"./hbr_uhr_top_deg_normalized_counts.csv\", index_col=0)"
   ]
  },
  {
   "cell_type": "code",
   "execution_count": 8,
   "id": "bcb5125c-8e3e-488a-a129-c9ceab9d1fdc",
   "metadata": {
    "slideshow": {
     "slide_type": "slide"
    },
    "tags": []
   },
   "outputs": [
    {
     "data": {
      "image/png": "[encoded data removed]",
      "text/plain": [
       "<Figure size 800x800 with 4 Axes>"
      ]
     },
     "metadata": {},
     "output_type": "display_data"
    }
   ],
   "source": [
    "seaborn.clustermap(hbr_uhr_top_deg_normalized_counts,z_score=0,cmap=\"viridis\",\n",
    "                   figsize=(8,8),vmin=-1.5, vmax=1.5,cbar_kws=({\"label\": \"z score\"}),\n",
    "                   cbar_pos=(0.855,0.8,0.025,0.15))\n",
    "plt.show()"
   ]
  },
  {
   "cell_type": "markdown",
   "id": "f6ade8fc-48d1-4fc9-8a2d-c0f0141bba17",
   "metadata": {
    "slideshow": {
     "slide_type": "slide"
    },
    "tags": []
   },
   "source": [
    "#### R Code in a Python Jupyter Notebook\n",
    "\n",
    "Using the `[rpy2.ipython](https://rpy2.github.io)` package, users can run R code inside a Python Jupyter Notebook. This package requires user installation (see [https://pypi.org/project/rpy2/](https://pypi.org/project/rpy2/)). To load `rpy2.ipython`, use `%load_ext`"
   ]
  },
  {
   "cell_type": "code",
   "execution_count": 9,
   "id": "a580ee38-fcf7-4733-a8f5-687246e30fec",
   "metadata": {
    "editable": true,
    "scrolled": true,
    "slideshow": {
     "slide_type": ""
    },
    "tags": []
   },
   "outputs": [],
   "source": [
    "%%capture --no-display\n",
    "\n",
    "# Load rpy2.ipython from ryp2 versio 3.6.1\n",
    "%load_ext rpy2.ipython"
   ]
  },
  {
   "cell_type": "markdown",
   "id": "3e62ca8e-bc80-4678-8e36-5edba9333e04",
   "metadata": {
    "slideshow": {
     "slide_type": "slide"
    },
    "tags": []
   },
   "source": [
    "#### Using R to generate a volcano plot\n",
    "\n",
    "Here, R will be used to generate a volcano plot for the HBR and UHR study differential expression analysis results as was done using Python. To run R code in a Python Jupyter Notebook, place at the top of the code cell `%%R` then proceed to write the R code.\n",
    "\n",
    "R's `read.csv` function takes on a file path enlosed in \"()\" as an argument. There are many options for this command that could alter the default ways in which it imports data. Here, the file hbr_uhr_deg_chr22_with_significance.csv will be imported using `read.csv` with default settings and stored as hbr_uhr_chr22_deg. The `head` command will be used to preview the first six lines of the data table. Because the \"-\" sign in the column name `-log10PAdj` violates R's column heading naming convention, `read.csv` by default changes the \"-\" with \"X.\". This column will be renamed `neg.log10PAdj`."
   ]
  },
  {
   "cell_type": "code",
   "execution_count": 10,
   "id": "bfbad937-40aa-49b5-b491-5f6f1cd8c65c",
   "metadata": {
    "slideshow": {
     "slide_type": "slide"
    },
    "tags": []
   },
   "outputs": [],
   "source": [
    "%%R\n",
    "# Import gene expression data using read.csv and store is as variable counts\n",
    "hbr_uhr_chr22_deg <- read.csv(\"./hbr_uhr_deg_chr22_with_significance.csv\")"
   ]
  },
  {
   "cell_type": "code",
   "execution_count": 11,
   "id": "143a4571-0a39-4fe9-9f61-35a6d428b219",
   "metadata": {
    "slideshow": {
     "slide_type": "slide"
    },
    "tags": []
   },
   "outputs": [
    {
     "name": "stdout",
     "output_type": "stream",
     "text": [
      "    name log2FoldChange     PAdj X.log10PAdj significance\n",
      "1 SYNGR1           -4.6 5.2e-217    216.2840         down\n",
      "2  SEPT3           -4.6 4.5e-204    203.3468         down\n",
      "3  YWHAH           -2.5 4.7e-191    190.3279         down\n",
      "4   RPL3            1.7 5.4e-134    133.2676           ns\n",
      "5  PI4KA           -2.0 2.9e-118    117.5376         down\n",
      "6  SEZ6L           -5.1 4.2e-109    108.3768         down\n"
     ]
    }
   ],
   "source": [
    "%%R\n",
    "# Look at the first few lines of counts using the head command\n",
    "head(hbr_uhr_chr22_deg)"
   ]
  },
  {
   "cell_type": "code",
   "execution_count": 12,
   "id": "57af1f0a-fab7-41a1-a1f7-8f65c36bb325",
   "metadata": {},
   "outputs": [],
   "source": [
    "%%R\n",
    "\n",
    "# Rename the X.log10PAdj column header to neg.log10PAdj\n",
    "\n",
    "colnames(hbr_uhr_chr22_deg)[4] <- \"neg.log10PAdj\""
   ]
  },
  {
   "cell_type": "code",
   "execution_count": 13,
   "id": "0110ce60-2cf4-4944-93be-0e2547534b56",
   "metadata": {
    "slideshow": {
     "slide_type": "slide"
    },
    "tags": []
   },
   "outputs": [],
   "source": [
    "%%R\n",
    "# Load the ggplot2 package using R's library command\n",
    "library(ggplot2)"
   ]
  },
  {
   "cell_type": "markdown",
   "id": "2dea2644-5a58-409d-aac6-597b539c6e37",
   "metadata": {},
   "source": [
    "## Using ggplot2 to construct a volcano plot\n",
    "\n",
    "To create the volcano plot initiate it with the `ggplot` command, which creates a blank plotting canvas. Enclosed in the `ggplot` command are the arguments and these are as follows.\n",
    "\n",
    "* Data table to generate a plot from: hbr_uhr_chr22_deg\n",
    "* aes: specifies aesthetics of the plot include:\n",
    "  * Values to plot on the x axis (ie. log2FoldChange)\n",
    "  * Values to plot on the y axis (ie. neg.log10PAdj)\n",
    "  * What to color the points by (set by `color` and in this example values in the significance column in the data table showing whether gene expression change was statistically significant)\n",
    "\n",
    "Next, specify the plot type. For a volcano plot (or scatter plot), `geom_point` will be used. The labels for the x and y axes are set by `xlab` and `ylab`, respectively. Finally, inside axis label, tick mark, and legend text fontsizes are specified in `theme`."
   ]
  },
  {
   "cell_type": "code",
   "execution_count": 14,
   "id": "a3dede5f-d924-44d1-a9ee-2bbb2c770f1f",
   "metadata": {
    "slideshow": {
     "slide_type": "slide"
    },
    "tags": []
   },
   "outputs": [
    {
     "data": {
      "image/png": "[encoded data removed]",
      "text/plain": [
       "<IPython.core.display.Image object>"
      ]
     },
     "metadata": {},
     "output_type": "display_data"
    }
   ],
   "source": [
    "%%R\n",
    "\n",
    "# Construct volcano plot.\n",
    "\n",
    "ggplot(hbr_uhr_chr22_deg, aes(x=log2FoldChange, y=neg.log10PAdj, color=significance))+\n",
    "geom_point()+xlab(\"Log2 Fold Change\")+ylab(\"-log10 Adjusted P\")+\n",
    "theme(axis.title.x=element_text(size=15),axis.title.y=element_text(size=15),\n",
    "axis.text.x=element_text(size=14),axis.text.y=element_text(size=14),\n",
    "legend.title=element_text(size=15),legend.text=element_text(size=14))"
   ]
  },
  {
   "cell_type": "markdown",
   "id": "b62ed3d4-c41f-4bc2-8d8c-94df30cbeec6",
   "metadata": {
    "slideshow": {
     "slide_type": "slide"
    },
    "tags": []
   },
   "source": [
    "#### Running Unix commands\n",
    "\n",
    "Users can run Unix commands within a Python Jupyter Notebook. To do this start a code block with \"!\" followed by the unix command. For instance, using the `pwd` command in the code block below to list the present working directory."
   ]
  },
  {
   "cell_type": "code",
   "execution_count": 15,
   "id": "5aa522f1-7098-47f2-94b3-be23dead0d51",
   "metadata": {
    "slideshow": {
     "slide_type": "slide"
    },
    "tags": []
   },
   "outputs": [
    {
     "name": "stdout",
     "output_type": "stream",
     "text": [
      "/Users/wuz8/Library/CloudStorage/OneDrive-SharedLibraries-NationalInstitutesofHealth/NCI CCR-GAU - Documents/BTEP/BTEP_Training/Topics_In_Bioinformatics/Intro_to_Bioinformatics_Summer_Trainees/2025/docs/jupyter_lab/data\n"
     ]
    }
   ],
   "source": [
    "!pwd"
   ]
  },
  {
   "cell_type": "markdown",
   "id": "714a4d17-aab1-4ec0-abf6-881886395bd2",
   "metadata": {
    "slideshow": {
     "slide_type": "slide"
    },
    "tags": []
   },
   "source": [
    "## Writing Formatted Text\n",
    "\n",
    "See [https://www.markdownguide.org/basic-syntax/](https://www.markdownguide.org/basic-syntax/) for a markdown guide."
   ]
  },
  {
   "cell_type": "markdown",
   "id": "cde617eb-8149-4d6c-9333-731af0c9e923",
   "metadata": {
    "slideshow": {
     "slide_type": "slide"
    },
    "tags": []
   },
   "source": [
    "#### Custom heading sizes\n",
    "\n",
    "Use `#` to specify heading levels\n",
    "\n",
    "```\n",
    "# Heading level 1 (largest)\n",
    "## Heading level 2 (second largest)\n",
    "### Heading level 3 (third largest)\n",
    "...\n",
    "```"
   ]
  },
  {
   "cell_type": "markdown",
   "id": "130d0a25-ab9b-4208-a165-594ff1619518",
   "metadata": {
    "slideshow": {
     "slide_type": "slide"
    },
    "tags": []
   },
   "source": [
    "#### Lists\n",
    "\n",
    "Un-ordered lists: use `*` or `-`\n",
    "\n",
    "```\n",
    "- DNA\n",
    "- RNA\n",
    "- protein\n",
    "- metabolite\n",
    "```\n",
    "\n",
    "Ordered list: use numbers\n",
    "\n",
    "```\n",
    "1. Obtain sequencing data\n",
    "2. Perform pre-alignment QC\n",
    "3. Adapter and/or quality trim\n",
    "3. Align sequencing data to reference genome\n",
    "4. Obtain gene expression count matrix\n",
    "5. Run differential expression analysis\n",
    "6. Pathway analysis\n",
    "```"
   ]
  },
  {
   "cell_type": "markdown",
   "id": "3f4f2da1-f926-4e95-93c4-5953274829a8",
   "metadata": {
    "slideshow": {
     "slide_type": "slide"
    },
    "tags": []
   },
   "source": [
    "#### Insert images\n",
    "\n",
    "* Via HTML: `<img src=\"image_path\" />`\n",
    "* Via markdown: `![](image_path)`"
   ]
  },
  {
   "cell_type": "markdown",
   "id": "f4712288-e345-4aac-9b6e-1c113ef2ed46",
   "metadata": {
    "slideshow": {
     "slide_type": "slide"
    },
    "tags": []
   },
   "source": [
    "#### Insert links\n",
    "\n",
    "`[Description of website](insert url)`"
   ]
  },
  {
   "cell_type": "markdown",
   "id": "aff298f1-ccc5-40e3-a4ed-ed3058225826",
   "metadata": {},
   "source": [
    "#### Build a Table of Contents\n",
    "\n",
    "To build a table of contents that links from one section of a Jupyter notebook to another do the following, where\n",
    "\n",
    "```\n",
    "[Display name](#Section-header)\n",
    "```\n",
    "\n",
    "* Enclosed in `[]` is the display name for the link. The display name cannot have punctuations such as commas.\n",
    "* Enclosed in `()` is the Markdown header for that section (ie. section header)\n",
    "    * This is prepended by #\n",
    "    * Each part the header is connected by `-`."
   ]
  },
  {
   "cell_type": "markdown",
   "id": "baa8b3f9-d89b-4cf2-bd28-2be5407d0bc5",
   "metadata": {},
   "source": [
    "## Exporting Jupyter Notebook using GUI\n",
    "\n",
    "<img src=\"jupyter_5.png\" width=\"50%\"/>"
   ]
  },
  {
   "cell_type": "markdown",
   "id": "e981b474-1501-4f92-8e00-724e0607241a",
   "metadata": {},
   "source": [
    "## Exporting Jupyter Notebook using Command Line\n",
    "\n",
    "Use the `jupyter nbconvert` command at the command prompt to convert Jupyter Notebook to various available format, including html, pdf, and slides. The format is specified after the `--to` option.\n",
    "\n",
    "```\n",
    "jupyter nbconvert --to format\n",
    "```"
   ]
  },
  {
   "cell_type": "markdown",
   "id": "9867fc0b-7c33-4169-a59d-c01832b185b6",
   "metadata": {},
   "source": [
    "## Sharing Jupyter Notebook\n",
    "\n",
    "- [Github](https://github.com)\n",
    "    - Static notebook (ie. users will not be able to run)\n",
    "- [Binder](https://mybinder.org)\n",
    "    - Provide data\n",
    "    - Provide list of packages\n",
    "    - Users can run the notebook\n",
    "    - [Example](https://mybinder.org/v2/gh/ncbi/workshop-ncbi-data-with-python/main?filepath=notebooks%2Fworkshop.py)"
   ]
  }
 ],
 "metadata": {
  "kernelspec": {
   "display_name": "Python 3 (ipykernel)",
   "language": "python",
   "name": "python3"
  },
  "language_info": {
   "codemirror_mode": {
    "name": "ipython",
    "version": 3
   },
   "file_extension": ".py",
   "mimetype": "text/x-python",
   "name": "python",
   "nbconvert_exporter": "python",
   "pygments_lexer": "ipython3",
   "version": "3.13.5"
  }
 },
 "nbformat": 4,
 "nbformat_minor": 5
}
